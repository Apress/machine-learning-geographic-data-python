{
 "cells": [
  {
   "cell_type": "code",
   "execution_count": null,
   "id": "9ddf99a0-3346-41e9-939d-6547e53bbad8",
   "metadata": {},
   "outputs": [],
   "source": [
    "import geopandas as gpd\n",
    "import fiona\n",
    "\n",
    "gpd.io.file.fiona.drvsupport.supported_drivers['KML'] = 'rw'\n",
    "us_cities = gpd.read_file('USCities.kml')\n",
    "us_cities\n"
   ]
  },
  {
   "cell_type": "code",
   "execution_count": null,
   "id": "e6264cfc-a378-4f49-90b8-3fb63ccce823",
   "metadata": {},
   "outputs": [],
   "source": [
    "canada_cities = gpd.read_file('CanadaCities.kml')\n",
    "canada_cities\n"
   ]
  },
  {
   "cell_type": "code",
   "execution_count": null,
   "id": "8a1f4761-4df7-4c9d-8e23-e91a76aae52b",
   "metadata": {},
   "outputs": [],
   "source": [
    "mexico_cities = gpd.read_file('MexicoCities.kml')\n",
    "mexico_cities\n"
   ]
  },
  {
   "cell_type": "code",
   "execution_count": null,
   "id": "30dd0401-a16d-4888-99b7-b105bc058ad2",
   "metadata": {},
   "outputs": [],
   "source": [
    "import contextily as cx\n",
    "\n",
    "# us cities\n",
    "ax = us_cities.plot(markersize=128, figsize=(15,15))\n",
    "\n",
    "# canada cities\n",
    "canada_cities.plot(ax=ax, markersize=128)\n",
    "\n",
    "# mexico cities\n",
    "mexico_cities.plot(ax = ax, markersize=128)\n",
    "\n",
    "# contextily basemap\n",
    "cx.add_basemap(ax, crs=us_cities.crs)\n"
   ]
  },
  {
   "cell_type": "code",
   "execution_count": null,
   "id": "840a9e39-77a5-4ff3-9c98-e85aa8ded843",
   "metadata": {},
   "outputs": [],
   "source": [
    "cities = pd.concat([us_cities, canada_cities, mexico_cities])\n",
    "cities\n"
   ]
  },
  {
   "cell_type": "code",
   "execution_count": null,
   "id": "e1101070-c48c-4a08-a6d8-ba37090601b7",
   "metadata": {},
   "outputs": [],
   "source": [
    "ax = cities.plot(markersize=128,figsize=(15,15))\n",
    "cx.add_basemap(ax, crs=us_cities.crs)\n"
   ]
  },
  {
   "cell_type": "code",
   "execution_count": null,
   "id": "536a5382-436b-4241-892a-2023065c3ee1",
   "metadata": {},
   "outputs": [],
   "source": [
    "lookup = pd.DataFrame({\n",
    "    'city': [\n",
    "        'Las Vegas',\n",
    "         'New York',\n",
    "         'Washington',\n",
    "         'Toronto',\n",
    "         'Quebec',\n",
    "         'Montreal',\n",
    "         'Vancouver',\n",
    "         'Guadalajara',\n",
    "         'Mexico City'\n",
    "    ],\n",
    "    'population': [\n",
    "        1234,\n",
    "        2345,\n",
    "        3456,\n",
    "        4567,\n",
    "        4321,\n",
    "        5432,\n",
    "        6543,\n",
    "        1357,\n",
    "        2468\n",
    "        \n",
    "    ]\n",
    "})\n",
    "\n",
    "lookup\n"
   ]
  },
  {
   "cell_type": "code",
   "execution_count": null,
   "id": "f868ee4e-79cb-4d8b-bd12-c77cfc38d401",
   "metadata": {},
   "outputs": [],
   "source": [
    "cities_new = cities.merge(lookup, left_on='Name', right_on='city')\n",
    "cities_new\n"
   ]
  },
  {
   "cell_type": "code",
   "execution_count": null,
   "id": "4c5627fa-1960-45bb-92a6-4951ab5b8dfc",
   "metadata": {},
   "outputs": [],
   "source": [
    "ax = cities_new.plot(markersize=cities_new['population'] // 10, figsize=(15,15))\n",
    "cx.add_basemap(ax, crs=us_cities.crs)\n"
   ]
  },
  {
   "cell_type": "code",
   "execution_count": null,
   "id": "b4503968-2d78-48fc-81d9-7990bed10af1",
   "metadata": {},
   "outputs": [],
   "source": [
    "countries = gpd.read_file('NorthMiddleAmerciaCountries.kml')\n",
    "countries\n"
   ]
  },
  {
   "cell_type": "code",
   "execution_count": null,
   "id": "2b47260a-95c5-43f7-9306-b676a622f512",
   "metadata": {},
   "outputs": [],
   "source": [
    "ax = countries.plot(figsize=(15,15), edgecolor='black', facecolor='none')\n",
    "cx.add_basemap(ax, crs=countries.crs)\n"
   ]
  },
  {
   "cell_type": "code",
   "execution_count": null,
   "id": "39157b0c-77e1-4db0-9839-674ca79dd9f7",
   "metadata": {},
   "outputs": [],
   "source": [
    "ax = countries.plot(figsize=(15,15), edgecolor='black', facecolor='none')\n",
    "cities_new.plot(ax=ax, markersize=cities_new['population'] // 10, figsize=(15,15))\n",
    "cx.add_basemap(ax, crs=countries.crs)\n"
   ]
  },
  {
   "cell_type": "code",
   "execution_count": null,
   "id": "7e2a2d43-dd03-45f5-8efa-8ea564cdd03f",
   "metadata": {},
   "outputs": [],
   "source": [
    "cities_3 = cities_new.sjoin(countries, how=\"inner\", predicate='within')\n",
    "cities_3\n"
   ]
  },
  {
   "cell_type": "code",
   "execution_count": null,
   "id": "ca0e5d25-e0ea-40f1-9071-785473653a0c",
   "metadata": {},
   "outputs": [],
   "source": [
    "cities_3['color'] = cities_3['index_right'].map({0: 'green', 1: 'yellow', 2: 'blue'})\n",
    "\n",
    "ax = cities_3.plot(markersize=cities_3['population'] // 10, c=cities_3['color'], figsize=(15,15))\n",
    "cx.add_basemap(ax, crs=cities_3.crs)\n"
   ]
  },
  {
   "cell_type": "code",
   "execution_count": null,
   "id": "fdf0981e-baa1-4cb1-a0ff-6ece126f7963",
   "metadata": {},
   "outputs": [],
   "source": [
    "countries['Area'] = ['North America', 'North America', 'Middle America']\n",
    "countries\n"
   ]
  },
  {
   "cell_type": "code",
   "execution_count": null,
   "id": "8cc38744-825f-452f-b870-28bab5b4ba45",
   "metadata": {},
   "outputs": [],
   "source": [
    "areas = countries.dissolve(by='Area')[['geometry']]\n",
    "areas\n"
   ]
  },
  {
   "cell_type": "code",
   "execution_count": null,
   "id": "96ec0027-d492-4c1b-b1d6-93b7a725fd27",
   "metadata": {},
   "outputs": [],
   "source": [
    "ax = areas.plot(figsize=(15,15), edgecolor='black', facecolor='none')\n",
    "cx.add_basemap(ax, crs=areas.crs)\n"
   ]
  },
  {
   "cell_type": "code",
   "execution_count": null,
   "id": "11e9705b-df5f-41f5-be88-2f5c3b265251",
   "metadata": {},
   "outputs": [],
   "source": []
  }
 ],
 "metadata": {
  "kernelspec": {
   "display_name": "Python 3",
   "language": "python",
   "name": "python3"
  },
  "language_info": {
   "codemirror_mode": {
    "name": "ipython",
    "version": 3
   },
   "file_extension": ".py",
   "mimetype": "text/x-python",
   "name": "python",
   "nbconvert_exporter": "python",
   "pygments_lexer": "ipython3",
   "version": "3.8.8"
  }
 },
 "nbformat": 4,
 "nbformat_minor": 5
}
