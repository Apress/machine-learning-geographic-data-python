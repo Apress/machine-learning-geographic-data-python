{
 "cells": [
  {
   "cell_type": "code",
   "execution_count": null,
   "id": "162501c4-a6c1-4792-a8ad-17df15866ae4",
   "metadata": {},
   "outputs": [],
   "source": [
    "import geopandas as gpd\n",
    "world = gpd.read_file(gpd.datasets.get_path(\"naturalearth_lowres\"))\n",
    "world.head()\n"
   ]
  },
  {
   "cell_type": "code",
   "execution_count": null,
   "id": "c3824e4e-02f7-434d-9bd0-1876773838f4",
   "metadata": {},
   "outputs": [],
   "source": [
    "world['area'] = world.geometry.apply(lambda x: x.area)\n",
    "world.head()\n"
   ]
  },
  {
   "cell_type": "code",
   "execution_count": null,
   "id": "5c134710-26d2-4f1a-801d-2fbd9ce0e851",
   "metadata": {},
   "outputs": [],
   "source": [
    "import matplotlib.pyplot as plt\n",
    "plt.rcParams[\"figure.figsize\"] = [16,9]\n",
    "world.plot()\n"
   ]
  },
  {
   "cell_type": "code",
   "execution_count": null,
   "id": "f59c5c3e-9e0b-43d4-bda4-2ca72148ecbd",
   "metadata": {},
   "outputs": [],
   "source": [
    "world.plot(column='area', cmap='Greys')"
   ]
  },
  {
   "cell_type": "code",
   "execution_count": null,
   "id": "0a0e9221-8fe5-46da-ad52-3d90d9c0f82e",
   "metadata": {},
   "outputs": [],
   "source": [
    "world.plot(column='area', cmap='Greys')\n",
    "plt.title('Area per country')\n"
   ]
  },
  {
   "cell_type": "code",
   "execution_count": null,
   "id": "04c28788-fe60-4012-bdaf-6c36ad78497b",
   "metadata": {},
   "outputs": [],
   "source": [
    "import matplotlib.pyplot as plt\n",
    "world.plot(column='area', cmap='Greys', legend=True)\n",
    "plt.title('Area per country')\n"
   ]
  },
  {
   "cell_type": "code",
   "execution_count": null,
   "id": "a37d8eac-cceb-400e-8270-d03dbb126141",
   "metadata": {},
   "outputs": [],
   "source": [
    "cities = gpd.read_file(gpd.datasets.get_path('naturalearth_cities'))\n",
    "cities.head()\n"
   ]
  },
  {
   "cell_type": "code",
   "execution_count": null,
   "id": "7b453a60-0001-4898-9713-0b05dfb96190",
   "metadata": {},
   "outputs": [],
   "source": [
    "cities.plot()"
   ]
  },
  {
   "cell_type": "code",
   "execution_count": null,
   "id": "95d6c8a3-ec42-401a-a307-3e2598d35b3c",
   "metadata": {},
   "outputs": [],
   "source": [
    "import matplotlib.pyplot as plt\n",
    "plt.rcParams[\"figure.figsize\"] = [16,9]\n",
    "\n",
    "fig, ax = plt.subplots()\n",
    "ax.set_aspect('equal')\n",
    "world.plot(ax=ax, color='white', edgecolor='grey')\n",
    "cities.plot(ax=ax, marker='x', color='black', markersize=15)\n",
    "plt.title('Cities plotted on a country border base map')\n",
    "plt.show()\n",
    "\n"
   ]
  },
  {
   "cell_type": "code",
   "execution_count": null,
   "id": "2c779191-66e9-4b08-adc4-6fa5e6081dbc",
   "metadata": {},
   "outputs": [],
   "source": [
    "import matplotlib.pyplot as plt\n",
    "import cartopy.crs as ccrs\n",
    "import cartopy.feature as cfeature\n",
    "from matplotlib.offsetbox import AnchoredText\n",
    "\n",
    "plt.rcParams[\"figure.figsize\"] = [16,9]\n",
    "\n",
    "fig = plt.figure()\n",
    "ax = fig.add_subplot(1, 1, 1, projection=ccrs.PlateCarree())\n",
    "ax.set_extent([-10, 40, 30, 70], crs=ccrs.PlateCarree())\n",
    "\n",
    "# background image\n",
    "ax.stock_img()\n",
    "\n",
    "# use an inbuit feature from cartopy\n",
    "states_provinces = cfeature.NaturalEarthFeature(\n",
    "    category='cultural',\n",
    "    name='admin_1_states_provinces_lines',\n",
    "    scale='10m',\n",
    "    facecolor='none')\n",
    "\n",
    "ax.add_feature(cfeature.LAND)\n",
    "ax.add_feature(cfeature.COASTLINE)\n",
    "ax.add_feature(states_provinces, edgecolor='gray')\n",
    "\n",
    "# Add a copyright\n",
    "text = AnchoredText('\\u00A9 Natural Earth; license: public domain',loc=4, prop={'size': 12}, frameon=True)\n",
    "\n",
    "ax.add_artist(text)\n",
    "\n",
    "plt.show()\n",
    "\n"
   ]
  },
  {
   "cell_type": "code",
   "execution_count": null,
   "id": "ed6b0628-a6e0-4f91-9b4f-ed2a706ea82c",
   "metadata": {},
   "outputs": [],
   "source": [
    "import plotly.express as px\n",
    "data = px.data.gapminder().query(\"year==2002\")\n",
    "data.head()\n"
   ]
  },
  {
   "cell_type": "code",
   "execution_count": null,
   "id": "416c9265-fafd-49d8-a459-2adb1ad6c1dc",
   "metadata": {},
   "outputs": [],
   "source": [
    "data['gdp'] = data['gdpPercap'] * data['pop']\n",
    "data.head()\n"
   ]
  },
  {
   "cell_type": "code",
   "execution_count": null,
   "id": "15e98084-5a40-45ed-a354-356577ce7bb6",
   "metadata": {},
   "outputs": [],
   "source": [
    "fig = px.scatter_geo(data, locations=\"iso_alpha\", size=\"gdp\", projection=\"natural earth\")\n",
    "fig.show()\n"
   ]
  },
  {
   "cell_type": "code",
   "execution_count": null,
   "id": "9e6ec952-04eb-462e-b170-46253f3bb96b",
   "metadata": {},
   "outputs": [],
   "source": [
    "import folium\n",
    "m = folium.Map(location=[48.8545, 2.2464])\n",
    "m\n"
   ]
  },
  {
   "cell_type": "code",
   "execution_count": null,
   "id": "618de548-b583-452a-9644-918dd05f7552",
   "metadata": {},
   "outputs": [],
   "source": [
    "import folium\n",
    "m = folium.Map(location=[48.8545, 2.2464], zoom_start=11)\n",
    "\n",
    "folium.Marker(\n",
    "    [48.8584, 2.2945], popup=\"Eiffel Tower\").add_to(m)\n",
    "folium.Marker(\n",
    "    [48.8738, 2.2950], popup=\"Arc de Triomphe\").add_to(m)\n",
    "\n",
    "m\n"
   ]
  },
  {
   "cell_type": "code",
   "execution_count": null,
   "id": "4b467d76-6594-4b85-9f08-71ab2e14081b",
   "metadata": {},
   "outputs": [],
   "source": []
  },
  {
   "cell_type": "code",
   "execution_count": null,
   "id": "32262b37-4fd7-449b-9c93-882732abe3ea",
   "metadata": {},
   "outputs": [],
   "source": []
  }
 ],
 "metadata": {
  "kernelspec": {
   "display_name": "Python 3",
   "language": "python",
   "name": "python3"
  },
  "language_info": {
   "codemirror_mode": {
    "name": "ipython",
    "version": 3
   },
   "file_extension": ".py",
   "mimetype": "text/x-python",
   "name": "python",
   "nbconvert_exporter": "python",
   "pygments_lexer": "ipython3",
   "version": "3.8.8"
  }
 },
 "nbformat": 4,
 "nbformat_minor": 5
}
