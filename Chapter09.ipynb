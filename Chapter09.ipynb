{
 "cells": [
  {
   "cell_type": "code",
   "execution_count": null,
   "id": "98cd10cc-8bb2-48c7-ae2d-d1144bed4557",
   "metadata": {},
   "outputs": [],
   "source": [
    "data = { 'point1': {\n",
    "            'lat': 0,\n",
    "            'long': 0,\n",
    "            'temp': 0 },\n",
    "        'point2': {\n",
    "          'lat': 10,\n",
    "          'long': 10,\n",
    "          'temp': 20 },\n",
    "        'point3' : {\n",
    "          'lat': 0,\n",
    "          'long': 10,\n",
    "          'temp': 10 },\n",
    "        'point4': {\n",
    "          'lat': 10,\n",
    "          'long': 0,\n",
    "          'temp': 30 } \n",
    "}\n"
   ]
  },
  {
   "cell_type": "code",
   "execution_count": null,
   "id": "171df1f6-b8b2-4711-968a-274b6b26c107",
   "metadata": {},
   "outputs": [],
   "source": [
    "import pandas as pd\n",
    "df = pd.DataFrame.from_dict(data, orient='index')\n",
    "df\n"
   ]
  },
  {
   "cell_type": "code",
   "execution_count": null,
   "id": "f3354fdb-90d9-4ea4-8aaf-c4ffb43a9133",
   "metadata": {},
   "outputs": [],
   "source": [
    "import geopandas as gpd\n",
    "from shapely.geometry.point import Point\n",
    "gdf = gpd.GeoDataFrame(df, geometry=[Point(y,x) for x,y in zip(list(df['lat']), list(df['long']))])\n",
    "gdf.plot(markersize=(gdf['temp']+1)*10)\n"
   ]
  },
  {
   "cell_type": "code",
   "execution_count": null,
   "id": "f468dd75-be5b-4e9b-8466-3c0008ad4464",
   "metadata": {},
   "outputs": [],
   "source": [
    "from scipy.interpolate import interp2d\n",
    "my_interpolation_function = interp2d(df['lat'], df['long'], df['temp'], kind='linear')\n"
   ]
  },
  {
   "cell_type": "code",
   "execution_count": null,
   "id": "69bf87ac-55ad-487d-9320-b6ae7da70c6f",
   "metadata": {},
   "outputs": [],
   "source": [
    "new_points = {'point5': {'lat': 0, 'long': 5},\n",
    "              'point6': {'lat': 5, 'long': 0},\n",
    "              'point7': {'lat': 5, 'long': 5},\n",
    "              'point8': {'lat': 5, 'long': 10},\n",
    "              'point9': {'lat': 10, 'long': 5}\n",
    "              }\n",
    "new_df = pd.DataFrame.from_dict(new_points, orient='index')\n",
    "new_df\n"
   ]
  },
  {
   "cell_type": "code",
   "execution_count": null,
   "id": "56007ba0-f6db-4b08-bbe0-915a80490d68",
   "metadata": {},
   "outputs": [],
   "source": [
    "interpolated_temps = []\n",
    "for i,row in new_df.iterrows():\n",
    "    interpolated_temps.append(my_interpolation_function(row['lat'], row['long'])[0])\n",
    "\n",
    "new_df['temp'] = interpolated_temps\n",
    "new_df\n"
   ]
  },
  {
   "cell_type": "code",
   "execution_count": null,
   "id": "6fc731a7-7487-4708-958f-05350a82851b",
   "metadata": {},
   "outputs": [],
   "source": [
    "\n",
    "combi_df = pd.concat([df, new_df])\n",
    "gdf = gpd.GeoDataFrame(combi_df, geometry=[Point(y,x) for x,y in zip(list(combi_df['lat']), list(combi_df['long']))])\n",
    "gdf.plot(markersize=(gdf['temp']+1)*10)\n"
   ]
  },
  {
   "cell_type": "code",
   "execution_count": null,
   "id": "3889a44e-7469-4d2e-a3e4-ab954836f120",
   "metadata": {},
   "outputs": [],
   "source": [
    "from pykrige.ok import OrdinaryKriging\n",
    "my_ok = OrdinaryKriging(df['long'], df['lat'], df['temp'])\n",
    "\n",
    "\n",
    "zvalues, sigmasq = my_ok.execute('points', new_df['long'].map(float).values, new_df['lat'].map(float).values)\n",
    "new_df['temp'] = zvalues.data\n",
    "new_df\n"
   ]
  },
  {
   "cell_type": "code",
   "execution_count": null,
   "id": "5ca005a3-3444-469f-bbef-281411f9a966",
   "metadata": {},
   "outputs": [],
   "source": [
    "combi_df = pd.concat([df, new_df])\n",
    "gdf = gpd.GeoDataFrame(combi_df, geometry=[Point(y,x) for x,y in zip(list(combi_df['lat']), list(combi_df['long']))])\n",
    "gdf.plot(markersize=(gdf['temp']+1)*10)\n"
   ]
  },
  {
   "cell_type": "code",
   "execution_count": null,
   "id": "204c2d3f-78d9-452e-91fa-ca28d450b781",
   "metadata": {},
   "outputs": [],
   "source": [
    "my_ok = OrdinaryKriging(df['long'], df['lat'], df['temp'], variogram_model = 'gaussian')\n",
    "\n",
    "zvalues, sigmasq = my_ok.execute('points', new_df['long'].map(float).values, new_df['lat'].map(float).values)\n",
    "new_df['temp'] = zvalues.data\n",
    "new_df\n"
   ]
  },
  {
   "cell_type": "code",
   "execution_count": null,
   "id": "11ff9c95-973f-4bd8-8f49-8c768381ca20",
   "metadata": {},
   "outputs": [],
   "source": [
    "combi_df = pd.concat([df, new_df])\n",
    "gdf = gpd.GeoDataFrame(combi_df, geometry=[Point(y,x) for x,y in zip(list(combi_df['lat']), list(combi_df['long']))])\n",
    "gdf.plot(markersize=(gdf['temp']+1)*10)\n"
   ]
  },
  {
   "cell_type": "code",
   "execution_count": null,
   "id": "7fc5f43a-ed16-4fd7-a7f0-8f7211b73209",
   "metadata": {},
   "outputs": [],
   "source": [
    "my_ok = OrdinaryKriging(df['long'], df['lat'], df['temp'], variogram_model = 'exponential')\n",
    "\n",
    "zvalues, sigmasq = my_ok.execute('points', new_df['long'].map(float).values, new_df['lat'].map(float).values)\n",
    "new_df['temp'] = zvalues.data\n",
    "new_df\n"
   ]
  },
  {
   "cell_type": "code",
   "execution_count": null,
   "id": "fa1cd624-380d-44e7-ac29-518dba1c0b2b",
   "metadata": {},
   "outputs": [],
   "source": [
    "combi_df = pd.concat([df, new_df])\n",
    "gdf = gpd.GeoDataFrame(combi_df, geometry=[Point(y,x) for x,y in zip(list(combi_df['lat']), list(combi_df['long']))])\n",
    "gdf.plot(markersize=(gdf['temp']+1)*10)\n"
   ]
  },
  {
   "cell_type": "code",
   "execution_count": null,
   "id": "6e4e2617-2d57-41dc-8822-671fa9ccb9e0",
   "metadata": {},
   "outputs": [],
   "source": []
  }
 ],
 "metadata": {
  "kernelspec": {
   "display_name": "Python 3",
   "language": "python",
   "name": "python3"
  },
  "language_info": {
   "codemirror_mode": {
    "name": "ipython",
    "version": 3
   },
   "file_extension": ".py",
   "mimetype": "text/x-python",
   "name": "python",
   "nbconvert_exporter": "python",
   "pygments_lexer": "ipython3",
   "version": "3.8.8"
  }
 },
 "nbformat": 4,
 "nbformat_minor": 5
}
