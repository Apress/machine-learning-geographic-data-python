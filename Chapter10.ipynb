{
 "cells": [
  {
   "cell_type": "code",
   "execution_count": null,
   "id": "e48d6172-bec6-47d2-beff-17870803c814",
   "metadata": {},
   "outputs": [],
   "source": [
    "import geopandas as gpd\n",
    "import fiona\n",
    "gpd.io.file.fiona.drvsupport.supported_drivers['KML'] = 'rw'\n",
    "all_data = gpd.read_file('chapter_10_data.kml')\n",
    "all_data"
   ]
  },
  {
   "cell_type": "code",
   "execution_count": null,
   "id": "4edc466d-f77c-462b-831a-3999cf24b5f2",
   "metadata": {},
   "outputs": [],
   "source": [
    "all_data.plot(figsize=(15,15),alpha=0.1)"
   ]
  },
  {
   "cell_type": "code",
   "execution_count": null,
   "id": "569630df-4db3-4ab0-af06-7c21d1a04d68",
   "metadata": {},
   "outputs": [],
   "source": [
    "info_polygons = all_data.loc[1:7,:]\n",
    "info_polygons\n"
   ]
  },
  {
   "cell_type": "code",
   "execution_count": null,
   "id": "2f341081-f183-4fec-b0bf-e42394e43101",
   "metadata": {},
   "outputs": [],
   "source": [
    "itineraries = all_data.loc[8:,:]\n",
    "itineraries\n"
   ]
  },
  {
   "cell_type": "code",
   "execution_count": null,
   "id": "518da55c-9171-4feb-b00c-81d312ae414c",
   "metadata": {},
   "outputs": [],
   "source": [
    "from shapely.geometry.point import Point\n",
    "\n",
    "results = []\n",
    "\n",
    "# split the lines into points, asw e want to treat them as points\n",
    "for i, row in itineraries.iterrows():\n",
    "    # making the line string into a list of the coordinates as strings and removing redundant information\n",
    "    list_of_points_extracted = str(row['geometry']).strip('LINESTRING Z (').strip(')').split(',')\n",
    "    list_of_points_extracted = [point[:-2] for point in list_of_points_extracted]\n",
    "    \n",
    "    # convert lat and long into floats\n",
    "    list_of_points_extracted = [Point([ float(y) for y in x.strip(' ').split(' ')]) for x in list_of_points_extracted]\n",
    "    list_of_points_extracted = [[i, row.Name] + [x] for x in list_of_points_extracted]\n",
    "    results += list_of_points_extracted\n",
    "\n",
    "results_df = pd.DataFrame(results)\n",
    "results_df.columns = ['client_id', 'target', 'point']\n",
    "results_df\n"
   ]
  },
  {
   "cell_type": "code",
   "execution_count": null,
   "id": "09a35d2e-99e5-4a8c-9b09-0dd7fa20944c",
   "metadata": {},
   "outputs": [],
   "source": [
    "import geopandas as gpd\n",
    "gdf = gpd.GeoDataFrame(results_df, geometry='point')\n",
    "gdf\n"
   ]
  },
  {
   "cell_type": "code",
   "execution_count": null,
   "id": "83ca848f-0af1-4dbd-af5b-084b59ee3da0",
   "metadata": {},
   "outputs": [],
   "source": [
    "joined_data = gpd.sjoin(gdf, info_polygons, how='left')\n",
    "joined_data\n"
   ]
  },
  {
   "cell_type": "code",
   "execution_count": null,
   "id": "83975586-aa35-4582-a4e7-677c6c4fe830",
   "metadata": {},
   "outputs": [],
   "source": [
    "# inspect NA\n",
    "joined_data['na'] = joined_data.Name.isna()\n",
    "joined_data.groupby('client_id').na.sum()\n"
   ]
  },
  {
   "cell_type": "code",
   "execution_count": null,
   "id": "d5a45225-9631-439c-9f53-e1b862f929fa",
   "metadata": {},
   "outputs": [],
   "source": [
    "# drop na\n",
    "joined_data = joined_data.dropna()\n",
    "joined_data\n"
   ]
  },
  {
   "cell_type": "code",
   "execution_count": null,
   "id": "43d35bdd-598e-4ea6-9ffb-95917987722f",
   "metadata": {},
   "outputs": [],
   "source": [
    "location_behavior = joined_data.pivot_table(index='client_id', columns='Name', values='target',aggfunc='count').fillna(0)\n",
    "location_behavior\n"
   ]
  },
  {
   "cell_type": "code",
   "execution_count": null,
   "id": "9d9e7bc3-c7d1-4483-a3d2-5895a2023bc8",
   "metadata": {},
   "outputs": [],
   "source": [
    "# standardize\n",
    "location_behavior = location_behavior.div( location_behavior.sum(axis=1), axis=0 )\n",
    "location_behavior\n"
   ]
  },
  {
   "cell_type": "code",
   "execution_count": null,
   "id": "5efe0fbb-cb65-4ef6-9a7a-f078402925ae",
   "metadata": {},
   "outputs": [],
   "source": [
    "X = location_behavior.values\n",
    "X\n"
   ]
  },
  {
   "cell_type": "code",
   "execution_count": null,
   "id": "08a1947f-7371-4517-b3bf-59d775167f36",
   "metadata": {},
   "outputs": [],
   "source": [
    "y = itineraries.Name.values\n",
    "y\n"
   ]
  },
  {
   "cell_type": "code",
   "execution_count": null,
   "id": "b1e78546-a191-44b0-9ff4-4bdf32594cff",
   "metadata": {},
   "outputs": [],
   "source": [
    "# stratified train test split\n",
    "from sklearn.model_selection import train_test_split\n",
    "X_train, X_test, y_train, y_test = train_test_split(X, y, test_size=0.33, random_state=42, stratify=y)\n"
   ]
  },
  {
   "cell_type": "code",
   "execution_count": null,
   "id": "3bffdf7c-381c-4877-a36b-19edc3005bfc",
   "metadata": {},
   "outputs": [],
   "source": [
    "# logistic regression\n",
    "from sklearn.linear_model import LogisticRegression\n",
    "\n",
    "my_lr = LogisticRegression()\n",
    "my_lr.fit(X_train, y_train)\n"
   ]
  },
  {
   "cell_type": "code",
   "execution_count": null,
   "id": "03f438ed-201b-4678-8be0-32980b036228",
   "metadata": {},
   "outputs": [],
   "source": [
    "preds = my_lr.predict(X_test)\n",
    "preds\n"
   ]
  },
  {
   "cell_type": "code",
   "execution_count": null,
   "id": "713a1c6e-5e57-4305-9976-d8464f1714dd",
   "metadata": {},
   "outputs": [],
   "source": [
    "# indeed one error for the log reg\n",
    "pd.DataFrame({'real': y_test, 'pred': preds})\n"
   ]
  },
  {
   "cell_type": "code",
   "execution_count": null,
   "id": "57f5d407-4e4f-4ec9-af05-5079161477c7",
   "metadata": {},
   "outputs": [],
   "source": [
    "from sklearn.metrics import confusion_matrix, ConfusionMatrixDisplay\n",
    "\n",
    "conf_mat = confusion_matrix(y_test, preds, normalize=None)\n",
    "conf_mat_plot = ConfusionMatrixDisplay(conf_mat, display_labels = set(y_test))\n",
    "conf_mat_plot.plot()\n"
   ]
  },
  {
   "cell_type": "code",
   "execution_count": null,
   "id": "c83da40f-0cf9-4bd5-8709-98cf345a036f",
   "metadata": {},
   "outputs": [],
   "source": [
    "from sklearn.tree import DecisionTreeClassifier\n",
    "my_dt = DecisionTreeClassifier()\n",
    "my_dt.fit(X_train, y_train)\n",
    "preds = my_dt.predict(X_test)\n",
    "pd.DataFrame({'real': y_test, 'pred': preds})\n"
   ]
  },
  {
   "cell_type": "code",
   "execution_count": null,
   "id": "9dfd31a2-49ba-43fe-9a00-3c34b13d0c99",
   "metadata": {},
   "outputs": [],
   "source": [
    "conf_mat = confusion_matrix(y_test, preds, normalize=None)\n",
    "conf_mat_plot = ConfusionMatrixDisplay(conf_mat, display_labels = set(y_test))\n",
    "conf_mat_plot.plot()\n"
   ]
  }
 ],
 "metadata": {
  "kernelspec": {
   "display_name": "Python 3",
   "language": "python",
   "name": "python3"
  },
  "language_info": {
   "codemirror_mode": {
    "name": "ipython",
    "version": 3
   },
   "file_extension": ".py",
   "mimetype": "text/x-python",
   "name": "python",
   "nbconvert_exporter": "python",
   "pygments_lexer": "ipython3",
   "version": "3.8.8"
  }
 },
 "nbformat": 4,
 "nbformat_minor": 5
}
