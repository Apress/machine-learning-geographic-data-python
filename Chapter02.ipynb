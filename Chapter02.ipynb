{
 "cells": [
  {
   "cell_type": "code",
   "execution_count": null,
   "id": "18979b61-e106-491c-be35-f04b9a393ef4",
   "metadata": {},
   "outputs": [],
   "source": [
    "!pip install fiona\n",
    "!pip install geopandas\n"
   ]
  },
  {
   "cell_type": "code",
   "execution_count": null,
   "id": "b3c4ded4-9c95-4c20-aa7b-03c54948ac8c",
   "metadata": {},
   "outputs": [],
   "source": [
    "import fiona\n",
    "import geopandas as gpd\n",
    "\n",
    "gpd.io.file.fiona.drvsupport.supported_drivers['KML'] = 'rw'\n",
    "kmlfile = gpd.read_file(\"Apress map.kml\")\n",
    "print(kmlfile)\n"
   ]
  },
  {
   "cell_type": "code",
   "execution_count": null,
   "id": "92a599dc-d229-495e-b5c2-cb2c11dd2a59",
   "metadata": {},
   "outputs": [],
   "source": [
    "print(kmlfile.loc[0,'geometry'])"
   ]
  },
  {
   "cell_type": "code",
   "execution_count": null,
   "id": "6b6e4c73-de90-4f80-bb7d-d3d8dbf74a84",
   "metadata": {},
   "outputs": [],
   "source": [
    "import matplotlib.pyplot as plt\n",
    "kmlfile.plot()\n",
    "plt.title('Map in WGS 84')\n"
   ]
  },
  {
   "cell_type": "code",
   "execution_count": null,
   "id": "222663ac-c4cd-47f7-bbd1-e1a8a7edc3b9",
   "metadata": {},
   "outputs": [],
   "source": [
    "kmlfile.crs"
   ]
  },
  {
   "cell_type": "code",
   "execution_count": null,
   "id": "d5acaf3b-0285-4120-a61d-fbe8993e0d80",
   "metadata": {},
   "outputs": [],
   "source": [
    "proj_kml = kmlfile.to_crs('ESRI:102014')\n",
    "proj_kml\n"
   ]
  },
  {
   "cell_type": "code",
   "execution_count": null,
   "id": "4ad63d55-79ce-4c5d-bb1b-d3662774e6bb",
   "metadata": {},
   "outputs": [],
   "source": [
    "proj_kml.plot()\n",
    "plt.title('ESRI:102014 map')\n"
   ]
  }
 ],
 "metadata": {
  "kernelspec": {
   "display_name": "Python 3",
   "language": "python",
   "name": "python3"
  },
  "language_info": {
   "codemirror_mode": {
    "name": "ipython",
    "version": 3
   },
   "file_extension": ".py",
   "mimetype": "text/x-python",
   "name": "python",
   "nbconvert_exporter": "python",
   "pygments_lexer": "ipython3",
   "version": "3.8.8"
  }
 },
 "nbformat": 4,
 "nbformat_minor": 5
}
