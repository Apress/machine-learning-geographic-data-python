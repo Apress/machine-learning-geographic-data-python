{
 "cells": [
  {
   "cell_type": "code",
   "execution_count": null,
   "id": "2fa7072a-47ce-49bf-a957-cceb4f4a3ccc",
   "metadata": {},
   "outputs": [],
   "source": [
    "import fiona\n",
    "import geopandas as gpd\n",
    "\n",
    "gpd.io.file.fiona.drvsupport.supported_drivers['KML'] = 'rw'\n",
    "kmlfile = gpd.read_file(\"2018 Central Park Squirrel Census - Squirrel Data.kml\")\n",
    "print(kmlfile)\n"
   ]
  },
  {
   "cell_type": "code",
   "execution_count": null,
   "id": "f0a03cab-60aa-49e6-90ff-db468e94142f",
   "metadata": {},
   "outputs": [],
   "source": [
    "kmlfile.crs"
   ]
  },
  {
   "cell_type": "code",
   "execution_count": null,
   "id": "64afaa48-8a11-4f25-9a21-308656d2bf8e",
   "metadata": {},
   "outputs": [],
   "source": [
    "import matplotlib.pyplot as plt\n",
    "kmlfile.plot()\n",
    "plt.title('Squirrels in Central Park (WGS84)')\n"
   ]
  },
  {
   "cell_type": "code",
   "execution_count": null,
   "id": "df0f1a77-a836-406c-9b2e-d6a706010c10",
   "metadata": {},
   "outputs": [],
   "source": [
    "kmlfile.columns"
   ]
  },
  {
   "cell_type": "code",
   "execution_count": null,
   "id": "e3c7d4f8-e152-4a4d-8dcc-3015967151f7",
   "metadata": {},
   "outputs": [],
   "source": [
    "import xml.etree.ElementTree as ET\n",
    "tree = ET.parse(\"2018 Central Park Squirrel Census - Squirrel Data.kml\")\n",
    "root = tree.getroot()\n",
    "\n",
    "# loop through the xml to parse it data point by data point\n",
    "df = []\n",
    "for datapoint_i in range(1,3023):\n",
    "    elementdata = root[0][1][datapoint_i][1]\n",
    "    df_row = []\n",
    "    \n",
    "    for x in elementdata:\n",
    "        df_row.append(x[0].text)\n",
    "    \n",
    "      df.append(df_row)  \n",
    "\n",
    "# get the column names\n",
    "column_names = [x.attrib['name'] for x in elementdata]\n",
    "\n",
    "# make into a dataframe and print\n",
    "data = pd.DataFrame(df, columns = column_names)\n",
    "data\n"
   ]
  },
  {
   "cell_type": "code",
   "execution_count": null,
   "id": "bf6175e1-f512-415b-a59a-259c9a066d01",
   "metadata": {},
   "outputs": [],
   "source": [
    "AM_data = data[data['shift'] == 'AM']\n",
    "PM_data = data[data['shift'] == 'PM']\n"
   ]
  },
  {
   "cell_type": "code",
   "execution_count": null,
   "id": "d73883c7-0cb2-45d0-a921-16f75266894a",
   "metadata": {},
   "outputs": [],
   "source": [
    "AM_geodata = gpd.GeoDataFrame(AM_data, geometry=gpd.points_from_xy(AM_data['x'], AM_data['y']))\n",
    "PM_geodata = gpd.GeoDataFrame(PM_data, geometry=gpd.points_from_xy(PM_data['x'], PM_data['y']))\n"
   ]
  },
  {
   "cell_type": "code",
   "execution_count": null,
   "id": "0905baa5-2adc-4fd1-9276-a458cd62959d",
   "metadata": {},
   "outputs": [],
   "source": [
    "AM_geodata.plot()\n",
    "plt.title('AM squirrels')\n",
    "\n",
    "PM_geodata.plot()\n",
    "plt.title('PM squirrels')\n"
   ]
  },
  {
   "cell_type": "code",
   "execution_count": null,
   "id": "2b4aa5b0-8beb-4a2b-a630-b2a962781ce9",
   "metadata": {},
   "outputs": [],
   "source": [
    "import pandas as pd\n",
    "flights_data = pd.read_csv('flights.csv')\n",
    "flights_data\n"
   ]
  },
  {
   "cell_type": "code",
   "execution_count": null,
   "id": "de61117b-7df9-48dc-8a46-9aa56f818653",
   "metadata": {},
   "outputs": [],
   "source": [
    "geolookup = pd.read_csv('airports.csv')\n",
    "geolookup\n"
   ]
  },
  {
   "cell_type": "code",
   "execution_count": null,
   "id": "2e812da0-79df-4c09-a4ea-b8bf7da2401f",
   "metadata": {},
   "outputs": [],
   "source": [
    "# convert coordinates of geo lookup to a Point\n",
    "# make to and from data set for to and from join\n",
    "from shapely.geometry import Point\n",
    "from_geo_lookup = geolookup[['IATA_CODE', 'LATITUDE', 'LONGITUDE']]\n",
    "from_geo_lookup['geometry_from']= [Point(x,y) for x,y in zip( from_geo_lookup['LONGITUDE'], from_geo_lookup['LATITUDE'])]\n",
    "from_geo_lookup = from_geo_lookup[['IATA_CODE','geometry_from' ]]\n",
    "\n",
    "to_geo_lookup = geolookup[['IATA_CODE', 'LATITUDE', 'LONGITUDE']]\n",
    "to_geo_lookup['geometry_to']= [Point(x,y) for x,y in zip( to_geo_lookup['LONGITUDE'], to_geo_lookup['LATITUDE'])]\n",
    "to_geo_lookup = to_geo_lookup[['IATA_CODE','geometry_to' ]]\n"
   ]
  },
  {
   "cell_type": "code",
   "execution_count": null,
   "id": "035afdc8-6e5b-440a-994a-036da4b3c540",
   "metadata": {},
   "outputs": [],
   "source": [
    "# align data types for the joins\n",
    "from_geo_lookup['IATA_CODE'] = from_geo_lookup['IATA_CODE'].map(str)\n",
    "to_geo_lookup['IATA_CODE'] = to_geo_lookup['IATA_CODE'].map(str)\n",
    "\n",
    "flights_data['ORIGIN_AIRPORT'] = flights_data['ORIGIN_AIRPORT'].map(str)\n",
    "flights_data['DESTINATION_AIRPORT'] = flights_data['DESTINATION_AIRPORT'].map(str)\n",
    "flights_data = flights_data[['ORIGIN_AIRPORT', 'DESTINATION_AIRPORT']]\n"
   ]
  },
  {
   "cell_type": "code",
   "execution_count": null,
   "id": "514995d3-8f82-4afb-bd06-add70881c1d4",
   "metadata": {},
   "outputs": [],
   "source": [
    "flights_data = flights_data.merge(from_geo_lookup, left_on = 'ORIGIN_AIRPORT', right_on = 'IATA_CODE')\n",
    "flights_data = flights_data.merge(to_geo_lookup, left_on = 'DESTINATION_AIRPORT', right_on = 'IATA_CODE')\n",
    "flights_data = flights_data[['geometry_from', 'geometry_to']]\n",
    "flights_data\n"
   ]
  },
  {
   "cell_type": "code",
   "execution_count": null,
   "id": "a4d8092a-d5a4-4c46-9f67-bba523213d76",
   "metadata": {},
   "outputs": [],
   "source": [
    "# convert points to lines\n",
    "from shapely.geometry import LineString\n",
    "\n",
    "lines = []\n",
    "for i,row in flights_data.iterrows():\n",
    "    try:\n",
    "        point_from = row['geometry_from']\n",
    "        point_to = row['geometry_to']\n",
    "        lines.append(LineString([point_from, point_to]))\n",
    "    except:\n",
    "        pass\n",
    "    \n",
    "geodf = gpd.GeoDataFrame(lines, columns=['geometry'])\n",
    "geodf\n"
   ]
  },
  {
   "cell_type": "code",
   "execution_count": null,
   "id": "a7e319e5-ef97-423b-82f1-0f327616b477",
   "metadata": {},
   "outputs": [],
   "source": [
    "# plot the lines\n",
    "import matplotlib.pyplot as plt\n",
    "geodf.plot(figsize=(12,12))\n",
    "plt.title('the world as airpline trajectory lines')\n"
   ]
  },
  {
   "cell_type": "code",
   "execution_count": null,
   "id": "b9e10ccb-a82e-4cdc-b012-a2c9b895b265",
   "metadata": {},
   "outputs": [],
   "source": [
    "import geopandas as gpd\n",
    "geojsonfile = gpd.read_file(gpd.datasets.get_path('naturalearth_lowres'))\n",
    "print(geojsonfile)\n"
   ]
  },
  {
   "cell_type": "code",
   "execution_count": null,
   "id": "c9a0676d-7346-4358-a708-7602c058362a",
   "metadata": {},
   "outputs": [],
   "source": [
    "geojsonfile.plot()"
   ]
  },
  {
   "cell_type": "code",
   "execution_count": null,
   "id": "dc41ae11-aab5-442c-b52a-9ea009688e52",
   "metadata": {},
   "outputs": [],
   "source": [
    "geojsonfile['area'] = geojsonfile['geometry'].apply(lambda x: x.area)\n",
    "geojsonfile.sort_values('area').head(10)\n"
   ]
  },
  {
   "cell_type": "code",
   "execution_count": null,
   "id": "64f11a47-cba1-4db6-b6a5-315ff2f59ef4",
   "metadata": {},
   "outputs": [],
   "source": [
    "geojsonfile['length'] = geojsonfile['geometry'].apply(lambda x: x.length)\n",
    "geojsonfile.sort_values('length', ascending=False).head(10)\n"
   ]
  },
  {
   "cell_type": "code",
   "execution_count": null,
   "id": "8cc839f6-ffd5-4d8f-a159-caf698dcdfa6",
   "metadata": {},
   "outputs": [],
   "source": [
    "import rasterio\n",
    "griddata = r'ore-kbz-mnt-litto3d-5m.tif'\n",
    "img = rasterio.open(griddata)\n",
    "matrix = img.read()\n",
    "matrix\n"
   ]
  },
  {
   "cell_type": "code",
   "execution_count": null,
   "id": "5660ed16-5ba6-4f01-8959-3d726ce183da",
   "metadata": {},
   "outputs": [],
   "source": [
    "from rasterio.plot import show\n",
    "show(img)\n"
   ]
  },
  {
   "cell_type": "code",
   "execution_count": null,
   "id": "9ad79f53-8c17-480a-be38-441b78a85f34",
   "metadata": {},
   "outputs": [],
   "source": []
  }
 ],
 "metadata": {
  "kernelspec": {
   "display_name": "Python 3",
   "language": "python",
   "name": "python3"
  },
  "language_info": {
   "codemirror_mode": {
    "name": "ipython",
    "version": 3
   },
   "file_extension": ".py",
   "mimetype": "text/x-python",
   "name": "python",
   "nbconvert_exporter": "python",
   "pygments_lexer": "ipython3",
   "version": "3.8.8"
  }
 },
 "nbformat": 4,
 "nbformat_minor": 5
}
