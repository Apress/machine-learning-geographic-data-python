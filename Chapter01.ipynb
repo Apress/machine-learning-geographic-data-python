{
 "cells": [
  {
   "cell_type": "code",
   "execution_count": null,
   "id": "bbc7db3f-c9e9-4241-b32d-232f88fe18e0",
   "metadata": {},
   "outputs": [],
   "source": [
    "import geopandas as gpd\n",
    "shapefile = gpd.read_file(\"sample_data/Communes_MGP.shp\")\n",
    "print(shapefile)\n"
   ]
  },
  {
   "cell_type": "code",
   "execution_count": null,
   "id": "a455b4a0-dbf9-4e00-a95e-fb54aa64920e",
   "metadata": {},
   "outputs": [],
   "source": [
    "shapefile.plot()"
   ]
  },
  {
   "cell_type": "code",
   "execution_count": null,
   "id": "92613301-d390-4a44-8627-2b2227cb37b6",
   "metadata": {},
   "outputs": [],
   "source": [
    "import fiona\n",
    "gpd.io.file.fiona.drvsupport.supported_drivers['KML'] = 'rw'\n",
    "\n",
    "import geopandas as gpd\n",
    "kmlfile = gpd.read_file(\"Communes_MGP.kml\")\n",
    "print(kmlfile)\n"
   ]
  },
  {
   "cell_type": "code",
   "execution_count": null,
   "id": "6d1f4acb-f092-4b64-9ec3-2a60cc3b2eeb",
   "metadata": {},
   "outputs": [],
   "source": [
    "kmlfile.plot()"
   ]
  },
  {
   "cell_type": "code",
   "execution_count": null,
   "id": "ad4cefab-b38f-46b9-88ad-472bf687efc9",
   "metadata": {},
   "outputs": [],
   "source": [
    "import geopandas as gpd\n",
    "geojsonfile = gpd.read_file(\"Communes_MGP.json\")\n",
    "print(geojsonfile)\n"
   ]
  },
  {
   "cell_type": "code",
   "execution_count": null,
   "id": "b544946e-8ad7-4054-9bd4-d2c4edc368ff",
   "metadata": {},
   "outputs": [],
   "source": [
    "geojsonfile.plot()"
   ]
  },
  {
   "cell_type": "code",
   "execution_count": null,
   "id": "6f4480c7-241d-4ac3-93d8-7bae7893b417",
   "metadata": {},
   "outputs": [],
   "source": [
    "import rasterio\n",
    "from rasterio.plot import show\n",
    "fp = r'ore-kbz-mnt-litto3d-5m.tif'\n",
    "img = rasterio.open(fp)\n",
    "show(img)\n"
   ]
  },
  {
   "cell_type": "code",
   "execution_count": null,
   "id": "cca63d42-6dc1-4766-8993-a9b0054e56ec",
   "metadata": {},
   "outputs": [],
   "source": []
  }
 ],
 "metadata": {
  "kernelspec": {
   "display_name": "Python 3",
   "language": "python",
   "name": "python3"
  },
  "language_info": {
   "codemirror_mode": {
    "name": "ipython",
    "version": 3
   },
   "file_extension": ".py",
   "mimetype": "text/x-python",
   "name": "python",
   "nbconvert_exporter": "python",
   "pygments_lexer": "ipython3",
   "version": "3.8.8"
  }
 },
 "nbformat": 4,
 "nbformat_minor": 5
}
