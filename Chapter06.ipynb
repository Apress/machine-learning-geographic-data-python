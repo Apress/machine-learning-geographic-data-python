{
 "cells": [
  {
   "cell_type": "code",
   "execution_count": null,
   "id": "55628e10-b95a-488d-ba12-89c127a40574",
   "metadata": {},
   "outputs": [],
   "source": [
    "import geopandas as gpd\n",
    "import fiona\n",
    "\n",
    "# import the paris subway station data\n",
    "gpd.io.file.fiona.drvsupport.supported_drivers['KML'] = 'rw'\n",
    "data = gpd.read_file('Paris_Metro_Stations.kml')\n",
    "data\n"
   ]
  },
  {
   "cell_type": "code",
   "execution_count": null,
   "id": "191b1341-0d11-45d0-9612-80a3d365cf9b",
   "metadata": {},
   "outputs": [],
   "source": [
    "data.plot()"
   ]
  },
  {
   "cell_type": "code",
   "execution_count": null,
   "id": "56e92695-9c2a-4763-9a8f-68f67e90b3a8",
   "metadata": {},
   "outputs": [],
   "source": [
    "import contextily as cx\n",
    "\n",
    "# import the paris subway station data\n",
    "gpd.io.file.fiona.drvsupport.supported_drivers['KML'] = 'rw'\n",
    "paris = gpd.read_file('ParisSeineData.kml')\n",
    "paris = paris.loc[1:,:]\n",
    "\n",
    "# use paris data to set extent but leave invisible\n",
    "ax = paris.plot(figsize=(15,15), color=\"None\")\n",
    "\n",
    "# add the data\n",
    "data.plot(ax=ax)\n",
    "\n",
    "# add the background map\n",
    "cx.add_basemap(ax, crs=data.crs)\n"
   ]
  },
  {
   "cell_type": "code",
   "execution_count": null,
   "id": "b2724236-7f5e-4b86-8ff9-636acc531b6b",
   "metadata": {},
   "outputs": [],
   "source": [
    "data.buffer(0.01)"
   ]
  },
  {
   "cell_type": "code",
   "execution_count": null,
   "id": "8d5c988a-1cc3-4ad7-9e12-916485ed8fca",
   "metadata": {},
   "outputs": [],
   "source": [
    "import contextily as cx\n",
    "\n",
    "# import the paris subway station data\n",
    "gpd.io.file.fiona.drvsupport.supported_drivers['KML'] = 'rw'\n",
    "paris = gpd.read_file('ParisSeineData.kml')\n",
    "paris = paris.loc[1:,:]\n",
    "\n",
    "# use paris data to set extent but leave invisible\n",
    "ax = paris.plot(figsize=(15,15), color=\"None\")\n",
    "\n",
    "# add the data\n",
    "data.buffer(0.01).plot(ax=ax, edgecolor='black', color='None')\n",
    "\n",
    "# add the background map\n",
    "cx.add_basemap(ax, crs=data.crs)\n"
   ]
  },
  {
   "cell_type": "code",
   "execution_count": null,
   "id": "6b140154-9dd8-414c-940c-def302246e09",
   "metadata": {},
   "outputs": [],
   "source": [
    "LineString(data.loc[[7,6,5,4,0,1,2,3], 'geometry'].reset_index(drop=True))"
   ]
  },
  {
   "cell_type": "code",
   "execution_count": null,
   "id": "94d6133a-bc33-4274-bdbe-2500e2253f54",
   "metadata": {},
   "outputs": [],
   "source": [
    "import pandas as pd\n",
    "\n",
    "df = pd.DataFrame(\n",
    "    {\n",
    "     'Name': ['metro'],\n",
    "     'geometry': [LineString(data.loc[[7,6,5,4,0,1,2,3], 'geometry'].reset_index(drop=True))]\n",
    "    }\n",
    ")\n",
    "\n",
    "gdf = gpd.GeoDataFrame(df)\n",
    "\n",
    "gdf\n"
   ]
  },
  {
   "cell_type": "code",
   "execution_count": null,
   "id": "ed0950ed-07ba-4c88-9ecb-b09ece58bb18",
   "metadata": {},
   "outputs": [],
   "source": [
    "import contextily as cx\n",
    "\n",
    "# use paris data to set extent but leave invisible\n",
    "ax = paris.plot(figsize=(15,15), color=\"None\")\n",
    "\n",
    "# add the point data\n",
    "data.buffer(0.01).plot(ax=ax, edgecolor='black', color='None')\n",
    "\n",
    "# add the line data\n",
    "gdf.plot(ax = ax, color = 'black')\n",
    "\n",
    "# add the background map\n",
    "cx.add_basemap(ax, crs=data.crs)\n"
   ]
  },
  {
   "cell_type": "code",
   "execution_count": null,
   "id": "9660452c-c8c3-4abd-b27c-5492ea7a044b",
   "metadata": {},
   "outputs": [],
   "source": [
    "gdf.buffer(0.001)"
   ]
  },
  {
   "cell_type": "code",
   "execution_count": null,
   "id": "97697ed7-7455-42f7-87c9-c1e2ce610199",
   "metadata": {},
   "outputs": [],
   "source": [
    "import contextily as cx\n",
    "\n",
    "# use paris data to set extent but leave invisible\n",
    "ax = paris.plot(figsize=(15,15), color=\"None\")\n",
    "\n",
    "# add the point data\n",
    "data.buffer(0.01).plot(ax=ax, edgecolor='black', color='green', alpha=0.5)\n",
    "\n",
    "# add the line data\n",
    "gdf.buffer(0.001).plot(ax = ax, edgecolor='black', color = 'red', alpha = 0.5)\n",
    "\n",
    "# add the background map\n",
    "cx.add_basemap(ax, crs=data.crs)\n"
   ]
  },
  {
   "cell_type": "code",
   "execution_count": null,
   "id": "ce5bf0a0-2c8c-46e9-91c0-a5260c828511",
   "metadata": {},
   "outputs": [],
   "source": [
    "# import the paris parks data\n",
    "gpd.io.file.fiona.drvsupport.supported_drivers['KML'] = 'rw'\n",
    "parks = gpd.read_file('Paris_Parks.kml')\n",
    "parks\n"
   ]
  },
  {
   "cell_type": "code",
   "execution_count": null,
   "id": "7764244d-5a46-474a-bd2c-cd59d1ca14ea",
   "metadata": {},
   "outputs": [],
   "source": [
    "import contextily as cx\n",
    "\n",
    "# use paris data to set extent but leave invisible\n",
    "ax = paris.plot(figsize=(15,15), color=\"None\")\n",
    "\n",
    "# add the point data\n",
    "data.buffer(0.01).plot(ax=ax, edgecolor='black', color='green', alpha=0.5)\n",
    "\n",
    "# add the line data\n",
    "gdf.buffer(0.001).plot(ax = ax, edgecolor='black', color = 'red', alpha = 0.5)\n",
    "\n",
    "# add the parks\n",
    "parks.plot(ax=ax, edgecolor='black', color=\"none\")\n",
    "\n",
    "# add the background map\n",
    "cx.add_basemap(ax, crs=data.crs)\n"
   ]
  },
  {
   "cell_type": "code",
   "execution_count": null,
   "id": "11357eec-c6b8-4b71-abb7-95b41d36775d",
   "metadata": {},
   "outputs": [],
   "source": [
    "parks.buffer(0.01)"
   ]
  },
  {
   "cell_type": "code",
   "execution_count": null,
   "id": "f6028670-2195-4631-b2e8-2f3bffdc91b6",
   "metadata": {},
   "outputs": [],
   "source": [
    "import contextily as cx\n",
    "\n",
    "# use paris data to set extent but leave invisible\n",
    "ax = paris.plot(figsize=(15,15), color=\"None\")\n",
    "\n",
    "# add the point data\n",
    "data.buffer(0.01).plot(ax=ax, edgecolor='none', color='yellow', alpha=0.5, zorder=2)\n",
    "\n",
    "# add the line data\n",
    "gdf.buffer(0.001).plot(ax = ax, edgecolor='black', color = 'red', alpha = 1, zorder=3)\n",
    "\n",
    "# add the parks\n",
    "parks.buffer(0.01).plot(ax=ax, edgecolor='none', color=\"green\", alpha = 0.5)\n",
    "\n",
    "# add the background map\n",
    "cx.add_basemap(ax, crs=data.crs)\n"
   ]
  },
  {
   "cell_type": "code",
   "execution_count": null,
   "id": "31bd1dd2-ab70-45ca-a2d5-e021c927e5bf",
   "metadata": {},
   "outputs": [],
   "source": [
    "station_buffer = data.buffer(0.01)\n",
    "rails_buffer = gdf.buffer(0.001)\n",
    "park_buffer = parks.buffer(0.01)\n",
    "\n",
    "A = gpd.GeoDataFrame({'geometry': station_buffer})\n",
    "B = gpd.GeoDataFrame({'geometry': park_buffer})\n",
    "C = gpd.GeoDataFrame({'geometry': rails_buffer})\n"
   ]
  },
  {
   "cell_type": "code",
   "execution_count": null,
   "id": "30e16687-717c-4be1-b34d-d06ffa159bdd",
   "metadata": {},
   "outputs": [],
   "source": [
    "A_and_B = A.overlay(B, how='intersection')\n",
    "A_and_B\n"
   ]
  },
  {
   "cell_type": "code",
   "execution_count": null,
   "id": "b0151eef-6988-4488-aa34-091fcab0e076",
   "metadata": {},
   "outputs": [],
   "source": [
    "A_and_B_not_C = A_and_B.overlay(C, how='difference')\n",
    "A_and_B_not_C\n"
   ]
  },
  {
   "cell_type": "code",
   "execution_count": null,
   "id": "2f9638c5-d756-433f-8e85-2a6470efeeb5",
   "metadata": {},
   "outputs": [],
   "source": [
    "import contextily as cx\n",
    "\n",
    "# use paris data to set extent but leave invisible\n",
    "ax = paris.plot(figsize=(15,15), edgecolor=\"none\", color=\"none\")\n",
    "\n",
    "A_and_B_not_C.plot(ax=ax, edgecolor='none', color='green', alpha=0.8)\n",
    "\n",
    "# add the background map\n",
    "cx.add_basemap(ax, crs=data.crs)\n"
   ]
  }
 ],
 "metadata": {
  "kernelspec": {
   "display_name": "Python 3",
   "language": "python",
   "name": "python3"
  },
  "language_info": {
   "codemirror_mode": {
    "name": "ipython",
    "version": 3
   },
   "file_extension": ".py",
   "mimetype": "text/x-python",
   "name": "python",
   "nbconvert_exporter": "python",
   "pygments_lexer": "ipython3",
   "version": "3.8.8"
  }
 },
 "nbformat": 4,
 "nbformat_minor": 5
}
