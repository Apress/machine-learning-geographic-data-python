{
 "cells": [
  {
   "cell_type": "code",
   "execution_count": null,
   "id": "d9e9f05e-7463-410b-b1fa-fd1969128a5e",
   "metadata": {},
   "outputs": [],
   "source": [
    "import geopandas as gpd\n",
    "import fiona\n",
    "\n",
    "gpd.io.file.fiona.drvsupport.supported_drivers['KML'] = 'rw'\n",
    "geodata = gpd.read_file('chapter 11 data.kml')\n",
    "geodata.head()\n"
   ]
  },
  {
   "cell_type": "code",
   "execution_count": null,
   "id": "794e41c8-1cf0-42bc-93d3-e9dc0d61b8e6",
   "metadata": {},
   "outputs": [],
   "source": [
    "import pandas as pd\n",
    "apartment_data = pd.read_excel('house_data.xlsx')\n",
    "apartment_data.head()\n"
   ]
  },
  {
   "cell_type": "code",
   "execution_count": null,
   "id": "d19b72bd-0cdd-4caf-9826-a5fa77fd4166",
   "metadata": {},
   "outputs": [],
   "source": [
    "apartment_data['Apt ID'] = apartment_data['Apt ID'].apply(lambda x: 'Apt ' + str(x))\n",
    "apartment_data.head()\n"
   ]
  },
  {
   "cell_type": "code",
   "execution_count": null,
   "id": "7bfb2b7b-540c-4761-87ab-e09e8e05f8b1",
   "metadata": {},
   "outputs": [],
   "source": [
    "merged_data = geodata.merge(apartment_data, left_on='Name', right_on='Apt ID')\n",
    "merged_data.head()\n"
   ]
  },
  {
   "cell_type": "code",
   "execution_count": null,
   "id": "09a03bc6-a7e9-403e-b2a2-b31a480d9fe4",
   "metadata": {},
   "outputs": [],
   "source": [
    "import contextily as cx\n",
    "\n",
    "# plotting all data\n",
    "ax = merged_data.plot(figsize=(15,15), edgecolor='black', facecolor='none')\n",
    "\n",
    "# adding a contextily basemap\n",
    "cx.add_basemap(ax, crs=merged_data.crs)\n"
   ]
  },
  {
   "cell_type": "code",
   "execution_count": null,
   "id": "786ab682-6ace-4beb-bc6b-7d9a990a36ce",
   "metadata": {},
   "outputs": [],
   "source": [
    "import matplotlib.pyplot as plt\n",
    "plt.hist(merged_data['Price'])\n"
   ]
  },
  {
   "cell_type": "code",
   "execution_count": null,
   "id": "10276646-15ff-4f99-bfaf-8fc88a0edf38",
   "metadata": {},
   "outputs": [],
   "source": [
    "# if we had no info to segment at all, our best guest would be to predict the mean\n",
    "merged_data['Price'].mean()\n"
   ]
  },
  {
   "cell_type": "code",
   "execution_count": null,
   "id": "1dfc7dab-5b0b-4e33-91cc-edbc6512c907",
   "metadata": {},
   "outputs": [],
   "source": [
    "# however we may use additional information to make this estimate more fitting\n",
    "plt.scatter(merged_data['MaxGuests'], merged_data['Price'])\n"
   ]
  },
  {
   "cell_type": "code",
   "execution_count": null,
   "id": "c9bb53a5-c5e6-44f6-94be-21e3f8979898",
   "metadata": {},
   "outputs": [],
   "source": [
    "import numpy as np\n",
    "np.corrcoef(merged_data['MaxGuests'], merged_data['Price'])\n"
   ]
  },
  {
   "cell_type": "code",
   "execution_count": null,
   "id": "6634e9e5-1f61-4316-8735-39d19d93281d",
   "metadata": {},
   "outputs": [],
   "source": [
    "import seaborn as sns\n",
    "sns.boxplot(x='IncludesBreakfast',y='Price',data=merged_data)\n"
   ]
  },
  {
   "cell_type": "code",
   "execution_count": null,
   "id": "2ec3717c-c058-4505-aa3e-8fa8e3c5dc8e",
   "metadata": {},
   "outputs": [],
   "source": [
    "X = merged_data[['IncludesBreakfast', 'MaxGuests']]\n",
    "y = merged_data['Price']\n"
   ]
  },
  {
   "cell_type": "code",
   "execution_count": null,
   "id": "962ff2de-8969-4b54-b7af-8b87616e7aae",
   "metadata": {},
   "outputs": [],
   "source": [
    "# first version lets just do a quick and dirty non geo model\n",
    "from sklearn.linear_model import LinearRegression\n",
    "lin_reg_1 = LinearRegression()\n",
    "lin_reg_1.fit(X, y)\n"
   ]
  },
  {
   "cell_type": "code",
   "execution_count": null,
   "id": "c5b30b9d-9eda-4df1-be21-c7357c18a264",
   "metadata": {},
   "outputs": [],
   "source": [
    "print('When no breakfast and 0 Max Guests then price is estimated at: ', lin_reg_1.intercept_)\n",
    "\n",
    "print('Adding breakfast adds to the price: ', lin_reg_1.coef_[0])\n",
    "\n",
    "print('Each additional Max Guests adds to the price: ', lin_reg_1.coef_[1])\n"
   ]
  },
  {
   "cell_type": "code",
   "execution_count": null,
   "id": "c759e9bd-d867-4804-836a-1fcb5e49fb80",
   "metadata": {},
   "outputs": [],
   "source": [
    "# Evaluate this model a bit better with train test\n",
    "from sklearn.model_selection import train_test_split\n",
    "X_train, X_test, y_train, y_test = train_test_split(X, y, test_size=0.33, random_state=42)\n"
   ]
  },
  {
   "cell_type": "code",
   "execution_count": null,
   "id": "4eee617c-c3c6-4bc2-9e60-630bb034df4f",
   "metadata": {},
   "outputs": [],
   "source": [
    "lin_reg_2 = LinearRegression()\n",
    "lin_reg_2.fit(X_train, y_train)\n"
   ]
  },
  {
   "cell_type": "code",
   "execution_count": null,
   "id": "e00d2ef5-7997-4a68-abd7-641dd29c30eb",
   "metadata": {},
   "outputs": [],
   "source": [
    "pred_reg_2 = lin_reg_2.predict(X_test)"
   ]
  },
  {
   "cell_type": "code",
   "execution_count": null,
   "id": "78b54b14-9939-4ed9-8f94-fe6d6e9cb890",
   "metadata": {},
   "outputs": [],
   "source": [
    "from sklearn.metrics import r2_score\n",
    "r2_score(y_test, pred_reg_2)\n"
   ]
  },
  {
   "cell_type": "code",
   "execution_count": null,
   "id": "82c2c53d-b8cc-49b5-8d98-24fe6061bbe3",
   "metadata": {},
   "outputs": [],
   "source": [
    "# add the geo data and see whether it imporves thing\n",
    "merged_data['long'] = merged_data['geometry'].apply(lambda x: x.x)\n",
    "merged_data['lat'] = merged_data['geometry'].apply(lambda x: x.y)\n",
    "merged_data.head()\n"
   ]
  },
  {
   "cell_type": "code",
   "execution_count": null,
   "id": "1f8fe255-7822-4f9d-ad61-9a079f990338",
   "metadata": {},
   "outputs": [],
   "source": [
    "plt.scatter(merged_data['lat'], merged_data['Price'])"
   ]
  },
  {
   "cell_type": "code",
   "execution_count": null,
   "id": "d1081c36-895d-442a-b6fb-ffe34d64db5b",
   "metadata": {},
   "outputs": [],
   "source": [
    "plt.scatter(merged_data['long'], merged_data['Price'])"
   ]
  },
  {
   "cell_type": "code",
   "execution_count": null,
   "id": "0426e493-405a-46cf-a832-2a0e5bc87cf4",
   "metadata": {},
   "outputs": [],
   "source": [
    "from sklearn.preprocessing import MinMaxScaler\n",
    "scaler = MinMaxScaler(feature_range=(16, 512))\n",
    "merged_data[['MarkerSize']] = scaler.fit_transform(merged_data[['Price']])\n"
   ]
  },
  {
   "cell_type": "code",
   "execution_count": null,
   "id": "5377ddfb-c6a0-4c07-9e7a-849a49649730",
   "metadata": {},
   "outputs": [],
   "source": [
    "plt.scatter(merged_data['long'], merged_data['lat'], s=merged_data['MarkerSize'], c='none', edgecolors='black')"
   ]
  },
  {
   "cell_type": "code",
   "execution_count": null,
   "id": "c9e6c30d-6b1c-4b80-84a0-ffca690bb8c5",
   "metadata": {},
   "outputs": [],
   "source": [
    "# add features\n",
    "X2 = merged_data[['IncludesBreakfast', 'MaxGuests', 'lat', 'long']]\n",
    "y = merged_data['Price']\n",
    "\n",
    "# train test split\n",
    "X2_train, X2_test, y_train, y_test = train_test_split(X2, y, test_size=0.33, random_state=42)\n",
    "\n",
    "# build the model\n",
    "lin_reg_3 = LinearRegression()\n",
    "lin_reg_3.fit(X2_train, y_train)\n",
    "\n",
    "# evaluate the model\n",
    "pred_reg_3 = lin_reg_3.predict(X2_test)\n",
    "print(r2_score(y_test, pred_reg_3))\n"
   ]
  },
  {
   "cell_type": "code",
   "execution_count": null,
   "id": "5aaf5919-332d-4614-b1e4-95f50ef98ceb",
   "metadata": {},
   "outputs": [],
   "source": [
    "from sklearn.tree import DecisionTreeRegressor\n",
    "\n",
    "# build the model\n",
    "dt_reg_4 = DecisionTreeRegressor()\n",
    "dt_reg_4.fit(X2_train, y_train)\n",
    "\n",
    "# evaluate the model\n",
    "pred_reg_4 = dt_reg_4.predict(X2_test)\n",
    "print(r2_score(y_test, pred_reg_4))\n"
   ]
  },
  {
   "cell_type": "code",
   "execution_count": null,
   "id": "b93ac76f-a676-4857-8381-fd6c4410c3dd",
   "metadata": {},
   "outputs": [],
   "source": [
    "# tune this model a little bit\n",
    "\n",
    "for max_depth in range(1,11):\n",
    "\n",
    "    # build the model\n",
    "    dt_reg_5 = DecisionTreeRegressor(max_depth=max_depth)\n",
    "    dt_reg_5.fit(X2_train, y_train)\n",
    "\n",
    "    # evaluate the model\n",
    "    pred_reg_5 = dt_reg_5.predict(X2_test)\n",
    "    print(max_depth, r2_score(y_test, pred_reg_5))\n"
   ]
  },
  {
   "cell_type": "code",
   "execution_count": null,
   "id": "be2b7797-c8f2-40a3-b897-633a5efc76ce",
   "metadata": {},
   "outputs": [],
   "source": [
    "from sklearn import tree\n",
    "\n",
    "# build the model\n",
    "dt_reg_5 = DecisionTreeRegressor(max_depth=3)\n",
    "dt_reg_5.fit(X2_train, y_train)\n",
    "\n",
    "plt.figure(figsize=(15,15))\n",
    "tree.plot_tree(dt_reg_5, feature_names=X2_train.columns)\n",
    "plt.show()\n"
   ]
  },
  {
   "cell_type": "code",
   "execution_count": null,
   "id": "22c156b3-8867-42a6-bdc2-b096939b1c3c",
   "metadata": {},
   "outputs": [],
   "source": []
  },
  {
   "cell_type": "code",
   "execution_count": null,
   "id": "e74ff81a-83a8-4a9e-962c-aa95fb87fcdd",
   "metadata": {},
   "outputs": [],
   "source": []
  }
 ],
 "metadata": {
  "kernelspec": {
   "display_name": "Python 3",
   "language": "python",
   "name": "python3"
  },
  "language_info": {
   "codemirror_mode": {
    "name": "ipython",
    "version": 3
   },
   "file_extension": ".py",
   "mimetype": "text/x-python",
   "name": "python",
   "nbconvert_exporter": "python",
   "pygments_lexer": "ipython3",
   "version": "3.8.8"
  }
 },
 "nbformat": 4,
 "nbformat_minor": 5
}
