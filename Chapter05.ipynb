{
 "cells": [
  {
   "cell_type": "code",
   "execution_count": null,
   "id": "4b69dde1-cc0f-4138-b7c1-6e26ca44eda0",
   "metadata": {},
   "outputs": [],
   "source": [
    "import geopandas as gpd\n",
    "import fiona\n",
    "\n",
    "gpd.io.file.fiona.drvsupport.supported_drivers['KML'] = 'rw'\n",
    "data = gpd.read_file('ParisSeineData.kml')\n",
    "print(data)\n"
   ]
  },
  {
   "cell_type": "code",
   "execution_count": null,
   "id": "5bd6a4c8-3955-4aa9-bbd2-716b5bf8c1ae",
   "metadata": {},
   "outputs": [],
   "source": [
    "seine = data.iloc[0:1,:]\n",
    "seine.plot()\n"
   ]
  },
  {
   "cell_type": "code",
   "execution_count": null,
   "id": "399c2046-53ce-4694-86ea-2fa7739fa8d0",
   "metadata": {},
   "outputs": [],
   "source": [
    "paris = data.iloc[1:2,:]\n",
    "paris.plot()\n"
   ]
  },
  {
   "cell_type": "code",
   "execution_count": null,
   "id": "d7e5ac32-7371-4357-9216-12cf34c13279",
   "metadata": {},
   "outputs": [],
   "source": [
    "paris_seine = seine.clip(paris)\n",
    "paris_seine\n"
   ]
  },
  {
   "cell_type": "code",
   "execution_count": null,
   "id": "e93d329e-5cb5-471f-b313-d55c9c6bb290",
   "metadata": {},
   "outputs": [],
   "source": [
    "paris_seine.plot()"
   ]
  },
  {
   "cell_type": "code",
   "execution_count": null,
   "id": "c8677af3-8ef7-4201-a6d1-dafed019ebb3",
   "metadata": {},
   "outputs": [],
   "source": [
    "gpd.io.file.fiona.drvsupport.supported_drivers['KML'] = 'rw'\n",
    "data = gpd.read_file('ParisSeineData_example2.kml')\n",
    "data.head()\n"
   ]
  },
  {
   "cell_type": "code",
   "execution_count": null,
   "id": "32e99aac-e08f-4688-80eb-7fa39645d988",
   "metadata": {},
   "outputs": [],
   "source": [
    "data.plot(cmap='tab10')"
   ]
  },
  {
   "cell_type": "code",
   "execution_count": null,
   "id": "afed3465-7e0a-4b9b-92ca-678bec43e72d",
   "metadata": {},
   "outputs": [],
   "source": [
    "intersection = seine.overlay(periph, how='intersection')\n",
    "intersection\n"
   ]
  },
  {
   "cell_type": "code",
   "execution_count": null,
   "id": "011f084f-e2bf-493e-9539-689eaf915c1a",
   "metadata": {},
   "outputs": [],
   "source": [
    "intersection.plot()"
   ]
  }
 ],
 "metadata": {
  "kernelspec": {
   "display_name": "Python 3",
   "language": "python",
   "name": "python3"
  },
  "language_info": {
   "codemirror_mode": {
    "name": "ipython",
    "version": 3
   },
   "file_extension": ".py",
   "mimetype": "text/x-python",
   "name": "python",
   "nbconvert_exporter": "python",
   "pygments_lexer": "ipython3",
   "version": "3.8.8"
  }
 },
 "nbformat": 4,
 "nbformat_minor": 5
}
