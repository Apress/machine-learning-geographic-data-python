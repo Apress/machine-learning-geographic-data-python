{
 "cells": [
  {
   "cell_type": "code",
   "execution_count": null,
   "id": "fcceafc3-4b9b-413f-901f-a2e2b6649593",
   "metadata": {},
   "outputs": [],
   "source": [
    "import geopandas as gpd\n",
    "import fiona\n",
    "\n",
    "gpd.io.file.fiona.drvsupport.supported_drivers['KML'] = 'rw'\n",
    "all_data = gpd.read_file('chapter_08_data.kml')\n",
    "all_data\n"
   ]
  },
  {
   "cell_type": "code",
   "execution_count": null,
   "id": "0e10593a-6e02-4f62-9ca5-c7d552bcd497",
   "metadata": {},
   "outputs": [],
   "source": [
    "import contextily as cx\n",
    "\n",
    "# plotting all data\n",
    "ax = all_data.plot(markersize=128, figsize=(15,15), edgecolor='black', facecolor='none')\n",
    "\n",
    "# adding a contextily basemap\n",
    "cx.add_basemap(ax, crs=all_data.crs)\n"
   ]
  },
  {
   "cell_type": "code",
   "execution_count": null,
   "id": "30824a42-2719-4e74-9dd8-15c4d4c14cb2",
   "metadata": {},
   "outputs": [],
   "source": [
    "# filter the data based on name\n",
    "iberia = all_data[all_data['Name'] == 'Iberia']\n",
    "iberia\n"
   ]
  },
  {
   "cell_type": "code",
   "execution_count": null,
   "id": "ff7fa536-7e23-4466-9efb-7a61e8e76288",
   "metadata": {},
   "outputs": [],
   "source": [
    "# filtering the data based on name\n",
    "portugal = all_data[all_data['Name'] == 'Portugal']\n",
    "portugal\n"
   ]
  },
  {
   "cell_type": "code",
   "execution_count": null,
   "id": "aa7e901f-4380-4ff0-a580-028ba75e9dd5",
   "metadata": {},
   "outputs": [],
   "source": [
    "# overlay to remove portugal from Iberia and create spain\n",
    "spain = iberia.overlay(portugal, 'difference')\n",
    "# plot the resulting polygon of spain\n",
    "spain.plot()\n"
   ]
  },
  {
   "cell_type": "code",
   "execution_count": null,
   "id": "b2a60488-dcc5-4939-a1c2-019572b7da00",
   "metadata": {},
   "outputs": [],
   "source": [
    "spain"
   ]
  },
  {
   "cell_type": "code",
   "execution_count": null,
   "id": "98ca9a0b-e9bf-4b71-83bc-2ea3c0eff2ae",
   "metadata": {},
   "outputs": [],
   "source": [
    "spain.Name = 'Spain'\n",
    "spain\n"
   ]
  },
  {
   "cell_type": "code",
   "execution_count": null,
   "id": "877d98b4-ec32-4c8e-81db-5aa1018eae78",
   "metadata": {},
   "outputs": [],
   "source": [
    "# plot the new Spain polygon\n",
    "ax = spain.plot(figsize=(15,15), edgecolor='black', facecolor='none')\n",
    "# add a contextily basemap\n",
    "cx.add_basemap(ax, crs=spain.crs)\n"
   ]
  },
  {
   "cell_type": "code",
   "execution_count": null,
   "id": "91144517-6f2f-4c12-b2e7-6e9a2481c140",
   "metadata": {},
   "outputs": [],
   "source": [
    "from shapely.geometry.point import Point\n",
    "cities_filter = all_data.geometry.apply(lambda x: type(x) == Point)\n",
    "cities = all_data[cities_filter]\n",
    "cities\n"
   ]
  },
  {
   "cell_type": "code",
   "execution_count": null,
   "id": "c4a6f418-ad79-48de-8c8b-56199712398d",
   "metadata": {},
   "outputs": [],
   "source": [
    "spanish_cities = cities.overlay(portugal, 'difference')\n",
    "spanish_cities\n"
   ]
  },
  {
   "cell_type": "code",
   "execution_count": null,
   "id": "0aec1754-8b6c-4145-9d69-d96620f6a80a",
   "metadata": {},
   "outputs": [],
   "source": [
    "ax = spain.plot(figsize=(15,15), edgecolor='black', facecolor='none')\n",
    "spanish_cities.plot(ax=ax, markersize=128)\n",
    "cx.add_basemap(ax, crs=spain.crs)\n"
   ]
  },
  {
   "cell_type": "code",
   "execution_count": null,
   "id": "dc8fde5f-6dab-4bfd-b43b-3830afb58e51",
   "metadata": {},
   "outputs": [],
   "source": [
    "from shapely.geometry.linestring import LineString\n",
    "roads_filter = all_data.geometry.apply(lambda x: type(x) == LineString)\n",
    "roads = all_data[roads_filter]\n",
    "roads\n"
   ]
  },
  {
   "cell_type": "code",
   "execution_count": null,
   "id": "c61c5498-0f41-457b-9182-9981136e6d66",
   "metadata": {},
   "outputs": [],
   "source": [
    "ax = spain.plot(figsize=(15,15), edgecolor='black', facecolor='none')\n",
    "spanish_cities.plot(ax=ax, markersize=128)\n",
    "roads.plot(ax=ax, linewidth=4, edgecolor='grey')\n",
    "cx.add_basemap(ax, crs=spain.crs)\n"
   ]
  },
  {
   "cell_type": "code",
   "execution_count": null,
   "id": "0f467e5e-9bb8-4b62-9a8c-751874de6315",
   "metadata": {},
   "outputs": [],
   "source": [
    "spanish_roads = roads.overlay(portugal, 'difference')\n",
    "spanish_roads\n"
   ]
  },
  {
   "cell_type": "code",
   "execution_count": null,
   "id": "61445fe1-57cd-49c8-ba2b-75dee141726d",
   "metadata": {},
   "outputs": [],
   "source": [
    "ax = spain.plot(figsize=(15,15), edgecolor='black', facecolor='none')\n",
    "spanish_cities.plot(ax=ax, markersize=128)\n",
    "spanish_roads.plot(ax=ax, linewidth=4, edgecolor='grey')\n",
    "cx.add_basemap(ax, crs=spain.crs)\n"
   ]
  },
  {
   "cell_type": "code",
   "execution_count": null,
   "id": "14737728-8ce7-46b0-85c3-2c4a0c9366fe",
   "metadata": {},
   "outputs": [],
   "source": []
  }
 ],
 "metadata": {
  "kernelspec": {
   "display_name": "Python 3",
   "language": "python",
   "name": "python3"
  },
  "language_info": {
   "codemirror_mode": {
    "name": "ipython",
    "version": 3
   },
   "file_extension": ".py",
   "mimetype": "text/x-python",
   "name": "python",
   "nbconvert_exporter": "python",
   "pygments_lexer": "ipython3",
   "version": "3.8.8"
  }
 },
 "nbformat": 4,
 "nbformat_minor": 5
}
