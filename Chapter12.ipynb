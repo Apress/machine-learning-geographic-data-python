{
 "cells": [
  {
   "cell_type": "code",
   "execution_count": null,
   "id": "199fcfbe-39af-4655-88d6-ab8945392be7",
   "metadata": {},
   "outputs": [],
   "source": [
    "import geopandas as gpd\n",
    "import fiona\n",
    "\n",
    "gpd.io.file.fiona.drvsupport.supported_drivers['KML'] = 'rw'\n",
    "geodata = gpd.read_file('chapter_12_data.kml')\n",
    "geodata.head()\n"
   ]
  },
  {
   "cell_type": "code",
   "execution_count": null,
   "id": "8794bf3a-3374-4b77-8132-b5259160fbcd",
   "metadata": {},
   "outputs": [],
   "source": [
    "geodata.plot()"
   ]
  },
  {
   "cell_type": "code",
   "execution_count": null,
   "id": "c831a239-6c53-4886-94ab-98148dbaacbc",
   "metadata": {},
   "outputs": [],
   "source": [
    "import contextily as cx\n",
    "ax = geodata.plot(figsize=(15,15), markersize=64)\n",
    "cx.add_basemap(ax, crs = geodata.crs)\n"
   ]
  },
  {
   "cell_type": "code",
   "execution_count": null,
   "id": "0be7d7a5-bb47-4fd0-bece-6f07d1c871ec",
   "metadata": {},
   "outputs": [],
   "source": [
    "#Let's start with finding POI of one person\n",
    "one_person = geodata[geodata['Name'] =='Person 1']\n",
    "one_person\n"
   ]
  },
  {
   "cell_type": "code",
   "execution_count": null,
   "id": "9abd6804-2bda-4828-ba41-2773e5210b9c",
   "metadata": {},
   "outputs": [],
   "source": [
    "ax = one_person.plot(figsize=(15,15), markersize=64)\n",
    "cx.add_basemap(ax, crs = one_person.crs)\n"
   ]
  },
  {
   "cell_type": "code",
   "execution_count": null,
   "id": "36af1f71-3e43-4f82-ba32-54c50236762b",
   "metadata": {},
   "outputs": [],
   "source": [
    "import pandas as pd\n",
    "one_person_points_df = pd.DataFrame(\n",
    "    [x.strip('(').strip(')').strip('0').strip(' ').split(' ') \n",
    "    for x in str(one_person.loc[0, 'geometry'])[13:].split(',')],\n",
    "    columns=['long','lat']\n",
    ")\n",
    "one_person_points_df = one_person_points_df.astype(float)\n",
    "one_person_points_df.head()\n"
   ]
  },
  {
   "cell_type": "code",
   "execution_count": null,
   "id": "98a5ceb9-4fc0-454d-869e-a613c0d02add",
   "metadata": {},
   "outputs": [],
   "source": [
    "from sklearn.cluster import OPTICS\n",
    "import numpy as np\n",
    "\n",
    "clustering = OPTICS(metric='haversine')\n",
    "\n",
    "one_person_points_df.loc[:,'cluster'] = clustering.fit_predict(np.radians(one_person_points_df[['lat', 'long']]))\n"
   ]
  },
  {
   "cell_type": "code",
   "execution_count": null,
   "id": "9030197f-a893-4aa4-8509-0f83348ebf33",
   "metadata": {},
   "outputs": [],
   "source": [
    "one_person_points_df['cluster'].value_counts()"
   ]
  },
  {
   "cell_type": "code",
   "execution_count": null,
   "id": "c30c98ce-c3ba-40a7-a01f-ca150c215651",
   "metadata": {},
   "outputs": [],
   "source": [
    "# remove all the observations with cluster -1 (outliers)\n",
    "one_person_points_df = one_person_points_df[one_person_points_df['cluster'] != -1]\n"
   ]
  },
  {
   "cell_type": "code",
   "execution_count": null,
   "id": "d45823e4-c619-4e65-9880-0f859217b45a",
   "metadata": {},
   "outputs": [],
   "source": [
    "medians_of_POI = one_person_points_df.groupby(['cluster'])[['lat', 'long']].median().reset_index(drop=False)\n",
    "medians_of_POI\n"
   ]
  },
  {
   "cell_type": "code",
   "execution_count": null,
   "id": "1b524d2f-98f0-4fad-94ae-a2ded707f4a7",
   "metadata": {},
   "outputs": [],
   "source": [
    "from shapely.geometry.point import Point\n",
    "medians_of_POI_gdf = gpd.GeoDataFrame(medians_of_POI, geometry=[Point(x) for x in zip( list(medians_of_POI['long']), list(medians_of_POI['lat']))])\n",
    "medians_of_POI_gdf.plot()\n"
   ]
  },
  {
   "cell_type": "code",
   "execution_count": null,
   "id": "8f7d1e10-024a-4cba-b917-80be080ee2e4",
   "metadata": {},
   "outputs": [],
   "source": [
    "ax = one_person.plot(figsize=(15,15))\n",
    "medians_of_POI_gdf.plot(ax=ax,markersize=128)\n",
    "cx.add_basemap(ax, crs = one_person.crs)\n"
   ]
  },
  {
   "cell_type": "code",
   "execution_count": null,
   "id": "5f4f8dd5-3e0f-42ca-98f0-63475752e2eb",
   "metadata": {},
   "outputs": [],
   "source": [
    "# try different settings\n",
    "one_person_points_df = pd.DataFrame(\n",
    "    [x.strip('(').strip(')').strip('0').strip(' ').split(' ') \n",
    "    for x in str(one_person.loc[0, 'geometry'])[13:].split(',')],\n",
    "    columns=['long','lat']\n",
    ")\n",
    "one_person_points_df = one_person_points_df.astype(float)\n",
    "\n",
    "clustering = OPTICS(min_samples = 10, max_eps=2.,min_cluster_size=8, xi = 0.05, metric='haversine')\n",
    "\n",
    "one_person_points_df.loc[:,'cluster'] = clustering.fit_predict(np.radians(one_person_points_df[['lat', 'long']]))\n",
    "one_person_points_df = one_person_points_df[one_person_points_df['cluster'] != -1]\n",
    "medians_of_POI = one_person_points_df.groupby(['cluster'])[['lat', 'long']].median().reset_index(drop=False)\n",
    "\n",
    "print(medians_of_POI)\n",
    "\n",
    "medians_of_POI_gdf = gpd.GeoDataFrame(medians_of_POI, \n",
    "geometry=[Point(x) for x in zip( list(medians_of_POI['long']), list(medians_of_POI['lat']))])\n",
    "\n",
    "ax = one_person.plot(figsize=(15,15))\n",
    "medians_of_POI_gdf.plot(ax=ax,markersize=128)\n",
    "cx.add_basemap(ax, crs = one_person.crs)\n",
    "\n"
   ]
  },
  {
   "cell_type": "code",
   "execution_count": null,
   "id": "03e1eb76-e9d9-4851-bd35-e4363010c64f",
   "metadata": {},
   "outputs": [],
   "source": [
    "import matplotlib.pyplot as plt\n",
    "\n",
    "for i,row in geodata.iterrows():\n",
    "    print(row)\n",
    "    one_person_points_df = pd.DataFrame(\n",
    "    [x.strip('(').strip(')').strip('0').strip(' ').split(' ') \n",
    "    for x in str(row['geometry'])[13:].split(',')],\n",
    "    columns=['long','lat']\n",
    "    )\n",
    "    one_person_points_df = one_person_points_df.astype(float)\n",
    "\n",
    "    clustering = OPTICS(min_samples = 10, max_eps=2.,min_cluster_size=8, xi = 0.05, metric='haversine')\n",
    "\n",
    "    one_person_points_df.loc[:,'cluster'] = clustering.fit_predict(np.radians(one_person_points_df[['lat', 'long']]))\n",
    "\n",
    "    one_person_points_df =       one_person_points_df[one_person_points_df['cluster'] != -1]\n",
    "\n",
    "    medians_of_POI = one_person_points_df.groupby(['cluster'])[['lat', 'long']].median().reset_index(drop=False)\n",
    "\n",
    "    print(medians_of_POI)\n",
    "\n",
    "    medians_of_POI_gdf = gpd.GeoDataFrame(medians_of_POI, geometry=[Point(x) for x in zip( list(medians_of_POI['long']), list(medians_of_POI['lat']))])\n",
    "\n",
    "    ax = gpd.GeoDataFrame([row], geometry=[row['geometry']]).plot(figsize=(15,15))\n",
    "\n",
    "    medians_of_POI_gdf.plot(ax=ax,markersize=128)\n",
    "    plt.show()\n"
   ]
  },
  {
   "cell_type": "code",
   "execution_count": null,
   "id": "795a33f2-4c34-4cab-8217-352533f4feb9",
   "metadata": {},
   "outputs": [],
   "source": []
  },
  {
   "cell_type": "code",
   "execution_count": null,
   "id": "802927ba-d351-4632-be76-08066aea2e5f",
   "metadata": {},
   "outputs": [],
   "source": []
  },
  {
   "cell_type": "code",
   "execution_count": null,
   "id": "807dcb88-712d-453c-a10b-652257dfde87",
   "metadata": {},
   "outputs": [],
   "source": []
  },
  {
   "cell_type": "code",
   "execution_count": null,
   "id": "4ab15d81-644a-4cce-8e8c-56bd05ec4524",
   "metadata": {},
   "outputs": [],
   "source": []
  },
  {
   "cell_type": "code",
   "execution_count": null,
   "id": "e248d934-c163-47fc-9c04-21f2c538faf6",
   "metadata": {},
   "outputs": [],
   "source": []
  }
 ],
 "metadata": {
  "kernelspec": {
   "display_name": "Python 3",
   "language": "python",
   "name": "python3"
  },
  "language_info": {
   "codemirror_mode": {
    "name": "ipython",
    "version": 3
   },
   "file_extension": ".py",
   "mimetype": "text/x-python",
   "name": "python",
   "nbconvert_exporter": "python",
   "pygments_lexer": "ipython3",
   "version": "3.8.8"
  }
 },
 "nbformat": 4,
 "nbformat_minor": 5
}
